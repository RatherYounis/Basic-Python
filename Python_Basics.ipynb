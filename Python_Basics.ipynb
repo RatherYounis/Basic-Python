{
  "nbformat": 4,
  "nbformat_minor": 0,
  "metadata": {
    "colab": {
      "provenance": []
    },
    "kernelspec": {
      "name": "python3",
      "display_name": "Python 3"
    },
    "language_info": {
      "name": "python"
    }
  },
  "cells": [
    {
      "cell_type": "code",
      "execution_count": null,
      "metadata": {
        "id": "SU3-TaF3GeIk"
      },
      "outputs": [],
      "source": []
    },
    {
      "cell_type": "markdown",
      "source": [
        "Python Basics\n"
      ],
      "metadata": {
        "id": "toHoMF2yHBV0"
      }
    },
    {
      "cell_type": "code",
      "source": [],
      "metadata": {
        "id": "wGWUWaubHaxn"
      },
      "execution_count": null,
      "outputs": []
    },
    {
      "cell_type": "markdown",
      "source": [
        "1.What is Python, and why is it popular\n",
        "- Python is an interpreted, dynamically typed language that supports multiple programming paradigms, including procedural, object-oriented, and functional programming. Its syntax emphasizes code readability and allows us to express concepts in fewer lines of code compared to other languages.\n",
        "- Python is popular for\n",
        "-it used in various fields, including web development , data science  artificial intelligence and automation .\n",
        "-Python has large and active community that contributes to its growth through extensive documentation, tutorials, and forums.\n",
        "-Major tech companies, including Google, Facebook, and Netflix, utilize Python for various applications, from backend services to data analysis. This widespread industry adoption underscores Python's reliability and scalability ."
      ],
      "metadata": {
        "id": "5s2KUgkOHqOo"
      }
    },
    {
      "cell_type": "markdown",
      "source": [],
      "metadata": {
        "id": "Z8tMTyK1H1TQ"
      }
    },
    {
      "cell_type": "markdown",
      "source": [
        "2.What is an interpreter in Python\n",
        "- In Python, an interpreter is a program that reads and executes Python code. Unlike compiled languages, which translate the entire source code into machine code before execution, an interpreter processes the code line by line, converting it into machine-readable instructions and executing them immediately. This approach allows for interactive coding and rapid development."
      ],
      "metadata": {
        "id": "_YGaOXeuJ3OT"
      }
    },
    {
      "cell_type": "code",
      "source": [],
      "metadata": {
        "id": "nAihnlTSK3kW"
      },
      "execution_count": null,
      "outputs": []
    },
    {
      "cell_type": "markdown",
      "source": [
        "3.What are pre-defined keywords in Python\n",
        "- In Python, predefined keywords are reserved words that have special meanings and purposes within the language. These keywords cannot be used as identifiers (such as variable names, function names, or class names) because they are integral to Python's syntax and structure."
      ],
      "metadata": {
        "id": "bBOlOAcqK595"
      }
    },
    {
      "cell_type": "markdown",
      "source": [
        "4.Can keywords be used as variable names\n",
        "- No, Python keywords cannot be used as variable names, function names, or any other identifiers."
      ],
      "metadata": {
        "id": "pbxZI1kLLobQ"
      }
    },
    {
      "cell_type": "code",
      "source": [],
      "metadata": {
        "id": "WRpFXfMMLyjh"
      },
      "execution_count": null,
      "outputs": []
    },
    {
      "cell_type": "markdown",
      "source": [
        "5.What is mutability in Python\n",
        "- mutability refers to whether an object's state or value can be changed after it is created. Understanding this concept is crucial for managing data effectively and avoiding unintended side effects in your programs.\n",
        "e.g Lists, Dictionaries, Sets, Bytearrays"
      ],
      "metadata": {
        "id": "zFkbQoYNL1gZ"
      }
    },
    {
      "cell_type": "markdown",
      "source": [
        "6.Why are lists mutable, but Tuples are immutable\n",
        "- Lists are designed to be mutable to accommodate scenarios where the data they contain is expected to change over time. This flexibility allows for operations like adding, removing, or modifying elements after the list's creation.\n",
        "- Tuples, in contrast, are immutable. This means once a tuple is created, its contents cannot be changed. This immutability is intentional and serves several purposes:"
      ],
      "metadata": {
        "id": "pOloYv5BMOcg"
      }
    },
    {
      "cell_type": "code",
      "source": [],
      "metadata": {
        "id": "TzCORO_kMoxq"
      },
      "execution_count": null,
      "outputs": []
    },
    {
      "cell_type": "markdown",
      "source": [
        "7.What is the difference between “==” and “is” operators in Python\n",
        "- In python the == and is operators are both used for comparison, but they serve different purposes and behave differently.\n",
        "- Equality Operator\n",
        "- Purpose: Compares the values of two objects to determine if they are equal.\n",
        "- Behavior: Returns True if the values of the two objects are the same, regardless of whether they are the same object in memory.\n",
        "- CASE : When you want to check if two objects have the same data\n",
        "- Identity Operator\n",
        "-Purpose: Compares the identities (memory addresses) of two objects to determine if they are the same object.\n",
        "\n",
        "- Behavior: Returns True if both variables point to the same object in memory.\n",
        "CASE: When you want to check if two variables reference the same object in memory."
      ],
      "metadata": {
        "id": "aIQd3OZlMpP2"
      }
    },
    {
      "cell_type": "markdown",
      "source": [
        "8.What are logical operators in Python\n",
        "- logical operators are used to combine conditional statements and evaluate expressions that result in Boolean values (True or False). They are essential for controlling the flow of a program, enabling complex decision-making processes."
      ],
      "metadata": {
        "id": "ieQLhlQDOHpn"
      }
    },
    {
      "cell_type": "markdown",
      "source": [
        "9.What is type casting in Python\n",
        "- type casting (also known as type conversion) refers to the process of converting a variable from one data type to another. This is essential when performing operations that require specific data types or when integrating different data sources.\n",
        "-Implicit Type Casting (Coercion): Automatically performed by Python when it converts one data type to another without explicit instruction from the programmer\n",
        "-Explicit Type Casting: Manually performed by the programmer using built-in functions to convert one data type to another\n",
        "\n"
      ],
      "metadata": {
        "id": "JgQkyPJfOJrE"
      }
    },
    {
      "cell_type": "code",
      "source": [],
      "metadata": {
        "id": "90EvtLCHOvBH"
      },
      "execution_count": null,
      "outputs": []
    },
    {
      "cell_type": "markdown",
      "source": [
        "10.What is the difference between implicit and explicit type casting ?\n",
        "- Implicit Type Casting :  automatically converts one data type to another without explicit instruction from the programmer. it Occurs when performing operations between different data types, where Python promotes the operands to a common type to prevent data loss.\n",
        "- Simplifies code by reducing the need for manual type conversions.\n",
        "- Enhances code readability and maintainability.\n",
        "\n",
        "\n",
        "- Explicit Type Casting : The programmer manually converts one data type to another using built-in functions. it is Used when the programmer needs to ensure a specific data type for an operation or when implicit conversion is not possible.\n",
        "- Provides control over the data type conversion process.\n",
        "- Prevents unintended data loss or errors due to automatic conversions.\n"
      ],
      "metadata": {
        "id": "Q95iXJOtOvcF"
      }
    },
    {
      "cell_type": "code",
      "source": [],
      "metadata": {
        "id": "NR1YlJwbQzEA"
      },
      "execution_count": null,
      "outputs": []
    },
    {
      "cell_type": "markdown",
      "source": [
        "11. What is the purpose of conditional statements in Python\n",
        "- conditional statements are fundamental constructs that enable your program to make decisions and execute specific blocks of code based on whether certain conditions are met. They allow you to control the flow of execution, making your programs dynamic and responsive to different inputs and situations.\n",
        "- Purpose of Conditional Statements:\n",
        "-Decision Making: They allow the program to choose between different actions based on conditions.\n",
        "- Flow Control: They enable the execution of certain code blocks only when specific conditions are true, preventing unnecessary computations.\n",
        "- Error Handling: They help in managing exceptions or unexpected situations by providing alternative actions.\n",
        "- User Interaction: They facilitate interactive programs that respond differently based on user inputs."
      ],
      "metadata": {
        "id": "0nUy8p61QzjV"
      }
    },
    {
      "cell_type": "code",
      "source": [],
      "metadata": {
        "id": "yiqsRgZoRO8t"
      },
      "execution_count": null,
      "outputs": []
    },
    {
      "cell_type": "markdown",
      "source": [
        "12.How does the elif statement work\n",
        "- the elif statement, short for \"else if,\" is used to check multiple conditions sequentially. It allows you to evaluate several expressions for truth value and execute a block of code as soon as one of the conditions is true.\n",
        "- How it works:\n",
        "- Initial Evaluation.\n",
        "- Subsequent Checks.\n",
        "- Execution"
      ],
      "metadata": {
        "id": "kWNR8j5JRQTa"
      }
    },
    {
      "cell_type": "code",
      "source": [],
      "metadata": {
        "id": "Vzip_amxR4MJ"
      },
      "execution_count": null,
      "outputs": []
    },
    {
      "cell_type": "markdown",
      "source": [
        "13.What is the difference between for and while loops\n",
        "- In Python, both for and while loops are used to repeat a block of code multiple times, but they differ in their structure, usage, and control flow. Here's a detailed comparison to help you understand when and how to use each loop effectively.\n",
        "- FOR Loop is ideal for iterating over a sequence (like a list, tuple, string, or range) when the number of iterations is known beforehand.\n",
        "-USE As :  Iterating over a known range or collection.\n",
        "Processing items in a list, tuple, or string.\n",
        "Performing a task a specific number of times.\n",
        "- WHILE Loop is Suitable for situations where the number of iterations is not known in advance and depends on a condition evaluated during each iteration.\n",
        "- USE As : Repeating a task until a certain condition is met,\n",
        "waiting for an event or user input &\n",
        "when the number of iterations is determined by dynamic conditions.\n",
        "\n",
        "\n"
      ],
      "metadata": {
        "id": "wuByhBUGR4tK"
      }
    },
    {
      "cell_type": "code",
      "source": [],
      "metadata": {
        "id": "ou2agrTRSy9g"
      },
      "execution_count": null,
      "outputs": []
    },
    {
      "cell_type": "markdown",
      "source": [
        "14.Describe a scenario where a while loop is more suitable than a for loop\n",
        "- A while loop is particularly suitable when the number of iterations is not known in advance and depends on a condition that is evaluated during each iteration.\n",
        "- e.g : Developing a user authentication system where the program should repeatedly prompt the user to enter their password until they provide the correct one. The number of attempts is unknown, but the loop should continue until the correct password is entered.\n",
        "- Condition-Driven Looping: The loop continues as long as the user's input doesn't match the correct password.\n",
        "- Indeterminate Iterations: The number of iterations is not predetermined; it depends on when the user enters the correct password.\n",
        "- User Interaction: The program interacts with the user, making it a dynamic process.\n",
        "- In this case, a while loop is more appropriate than a for loop because the number of iterations isn't known beforehand and is determined by user input. Using a for loop would require a predefined range, which isn't suitable for this scenario."
      ],
      "metadata": {
        "id": "FwdrvbKoSzrt"
      }
    },
    {
      "cell_type": "code",
      "source": [],
      "metadata": {
        "id": "PW1sNgjoToJp"
      },
      "execution_count": null,
      "outputs": []
    },
    {
      "cell_type": "markdown",
      "source": [
        "1.Write a Python program to print \"Hello, World!"
      ],
      "metadata": {
        "id": "v5KiLynheBmM"
      }
    },
    {
      "cell_type": "code",
      "source": [
        "print(\"Hello, World!\")\n"
      ],
      "metadata": {
        "colab": {
          "base_uri": "https://localhost:8080/"
        },
        "id": "8i8l5rByeRSO",
        "outputId": "15277224-8c8c-4d09-eb5b-1dd03357865c"
      },
      "execution_count": 9,
      "outputs": [
        {
          "output_type": "stream",
          "name": "stdout",
          "text": [
            "Hello, World!\n"
          ]
        }
      ]
    },
    {
      "cell_type": "markdown",
      "source": [
        "2.Write a Python program that displays your name and age"
      ],
      "metadata": {
        "id": "MjWqx41bexFS"
      }
    },
    {
      "cell_type": "code",
      "source": [
        "name = input(\"Please enter your name: \")\n",
        "age = int(input(\"Please enter your age: \"))\n",
        "print(\"\\nUser Information:\")\n",
        "print(\"Name:\", name)\n",
        "print(\"Age:\", age)"
      ],
      "metadata": {
        "colab": {
          "base_uri": "https://localhost:8080/"
        },
        "id": "IB1ZQ52dezSm",
        "outputId": "82a70a79-10ad-4b2e-ae70-0c20315d94ae"
      },
      "execution_count": 4,
      "outputs": [
        {
          "output_type": "stream",
          "name": "stdout",
          "text": [
            "Please enter your name: Rather Younis\n",
            "Please enter your age: 25\n",
            "\n",
            "User Information:\n",
            "Name: Rather Younis\n",
            "Age: 25\n"
          ]
        }
      ]
    },
    {
      "cell_type": "code",
      "source": [],
      "metadata": {
        "id": "k-w2wOaohfKz"
      },
      "execution_count": null,
      "outputs": []
    },
    {
      "cell_type": "markdown",
      "source": [
        "3.Write code to print all the pre-defined keywords in Python using the keyword library."
      ],
      "metadata": {
        "id": "w_MW9Cd7h12I"
      }
    },
    {
      "cell_type": "code",
      "source": [
        "import keyword\n",
        "print(\"Python Keywords:\", keyword.kwlist)\n"
      ],
      "metadata": {
        "colab": {
          "base_uri": "https://localhost:8080/"
        },
        "id": "8vjchy9Hicow",
        "outputId": "08071a91-0b21-456d-ef39-e062a2e92e71"
      },
      "execution_count": 14,
      "outputs": [
        {
          "output_type": "stream",
          "name": "stdout",
          "text": [
            "Python Keywords: ['False', 'None', 'True', 'and', 'as', 'assert', 'async', 'await', 'break', 'class', 'continue', 'def', 'del', 'elif', 'else', 'except', 'finally', 'for', 'from', 'global', 'if', 'import', 'in', 'is', 'lambda', 'nonlocal', 'not', 'or', 'pass', 'raise', 'return', 'try', 'while', 'with', 'yield']\n"
          ]
        }
      ]
    },
    {
      "cell_type": "code",
      "source": [],
      "metadata": {
        "id": "x1gopR6wjStx"
      },
      "execution_count": null,
      "outputs": []
    },
    {
      "cell_type": "markdown",
      "source": [
        "4.Write a program that checks if a given word is a Python keyword."
      ],
      "metadata": {
        "id": "DXnCPtGJjjOQ"
      }
    },
    {
      "cell_type": "code",
      "source": [
        "import keyword\n",
        "\n",
        "word = input(\"Enter a word: \")\n",
        "\n",
        "if keyword.iskeyword(word):\n",
        "    print(f\"'{word}' is a Python keyword.\")\n",
        "else:\n",
        "    print(f\"'{word}' is not a Python keyword.\")\n"
      ],
      "metadata": {
        "colab": {
          "base_uri": "https://localhost:8080/"
        },
        "id": "WkxK-svOjpPs",
        "outputId": "49347a00-9f5a-4426-9239-505d46bc50ae"
      },
      "execution_count": 18,
      "outputs": [
        {
          "output_type": "stream",
          "name": "stdout",
          "text": [
            "Enter a word: for\n",
            "'for' is a Python keyword.\n"
          ]
        }
      ]
    },
    {
      "cell_type": "code",
      "source": [],
      "metadata": {
        "id": "HSw9zpInlVVd"
      },
      "execution_count": null,
      "outputs": []
    },
    {
      "cell_type": "markdown",
      "source": [
        " 5.Create a list and tuple in Python, and demonstrate how attempting to change an element works differently\n",
        "for each."
      ],
      "metadata": {
        "id": "BFg9p0GnlZx6"
      }
    },
    {
      "cell_type": "code",
      "source": [
        "\n",
        "my_list = [10, 20, 30]\n",
        "my_tuple = (10, 20, 30)\n",
        "\n",
        "try:\n",
        "    my_list[1] = 99\n",
        "    print(\"List after modification:\", my_list)\n",
        "except TypeError as e:\n",
        "    print(\"Error modifying list:\", e)\n",
        "\n",
        "try:\n",
        "    my_tuple[1] = 99\n",
        "    print(\"Tuple after modification:\", my_tuple)\n",
        "except TypeError as e:\n",
        "    print(\"Error modifying tuple:\", e)\n"
      ],
      "metadata": {
        "colab": {
          "base_uri": "https://localhost:8080/"
        },
        "id": "WtdBtw3Slc0Q",
        "outputId": "39bc2565-5f7b-4c90-a084-17b145549869"
      },
      "execution_count": 19,
      "outputs": [
        {
          "output_type": "stream",
          "name": "stdout",
          "text": [
            "List after modification: [10, 99, 30]\n",
            "Error modifying tuple: 'tuple' object does not support item assignment\n"
          ]
        }
      ]
    },
    {
      "cell_type": "code",
      "source": [],
      "metadata": {
        "id": "I8_BNexHluPk"
      },
      "execution_count": null,
      "outputs": []
    },
    {
      "cell_type": "markdown",
      "source": [
        "6.Write a function to demonstrate the behavior of mutable and immutable arguments."
      ],
      "metadata": {
        "id": "J6mZlZlql81f"
      }
    },
    {
      "cell_type": "code",
      "source": [
        "def demonstrate_mutability():\n",
        "\n",
        "    x = 10\n",
        "    print(f\"Original x: {x}\")\n",
        "\n",
        "    def modify_immutable(x):\n",
        "        x += 5\n",
        "        print(f\"Modified x inside function: {x}\")\n",
        "        return x\n",
        "\n",
        "    x = modify_immutable(x)\n",
        "    print(f\"x after function call: {x}\")\n",
        "\n",
        "\n",
        "    my_list = [1, 2, 3]\n",
        "    print(f\"\\nOriginal list: {my_list}\")\n",
        "\n",
        "    def modify_mutable(lst):\n",
        "        lst.append(4)\n",
        "        print(f\"Modified list inside function: {lst}\")\n",
        "\n",
        "    modify_mutable(my_list)\n",
        "    print(f\"List after function call: {my_list}\")\n",
        "\n",
        "demonstrate_mutability()\n"
      ],
      "metadata": {
        "colab": {
          "base_uri": "https://localhost:8080/"
        },
        "id": "7mOp4KybmFY7",
        "outputId": "31e36d08-a773-4f36-a64d-e390c4b26f30"
      },
      "execution_count": 20,
      "outputs": [
        {
          "output_type": "stream",
          "name": "stdout",
          "text": [
            "Original x: 10\n",
            "Modified x inside function: 15\n",
            "x after function call: 15\n",
            "\n",
            "Original list: [1, 2, 3]\n",
            "Modified list inside function: [1, 2, 3, 4]\n",
            "List after function call: [1, 2, 3, 4]\n"
          ]
        }
      ]
    },
    {
      "cell_type": "code",
      "source": [],
      "metadata": {
        "id": "v73S6jb8mQHC"
      },
      "execution_count": null,
      "outputs": []
    },
    {
      "cell_type": "markdown",
      "source": [
        "7.Write a program that performs basic arithmetic operations on two user-input numbers."
      ],
      "metadata": {
        "id": "OIhY69i5mTX2"
      }
    },
    {
      "cell_type": "code",
      "source": [
        "\n",
        "\n",
        "num1 = float(input(\"Enter the first number: \"))\n",
        "num2 = float(input(\"Enter the second number: \"))\n",
        "\n",
        "\n",
        "addition = num1 + num2\n",
        "subtraction = num1 - num2\n",
        "multiplication = num1 * num2\n",
        "division = num1 / num2 if num2 != 0 else 'undefined (cannot divide by zero)'\n",
        "\n",
        "\n",
        "print(f\"\\nResults:\")\n",
        "print(f\"Addition: {num1} + {num2} = {addition}\")\n",
        "print(f\"Subtraction: {num1} - {num2} = {subtraction}\")\n",
        "print(f\"Multiplication: {num1} * {num2} = {multiplication}\")\n",
        "print(f\"Division: {num1} / {num2} = {division}\")\n",
        "\n"
      ],
      "metadata": {
        "colab": {
          "base_uri": "https://localhost:8080/"
        },
        "id": "55cUXVECmWcb",
        "outputId": "1b357277-1358-419c-fd0b-b4f3da32f480"
      },
      "execution_count": 24,
      "outputs": [
        {
          "output_type": "stream",
          "name": "stdout",
          "text": [
            "Enter the first number: 10\n",
            "Enter the second number: 0\n",
            "\n",
            "Results:\n",
            "Addition: 10.0 + 0.0 = 10.0\n",
            "Subtraction: 10.0 - 0.0 = 10.0\n",
            "Multiplication: 10.0 * 0.0 = 0.0\n",
            "Division: 10.0 / 0.0 = undefined (cannot divide by zero)\n"
          ]
        }
      ]
    },
    {
      "cell_type": "code",
      "source": [],
      "metadata": {
        "id": "piezAZQkmgJR"
      },
      "execution_count": null,
      "outputs": []
    },
    {
      "cell_type": "markdown",
      "source": [
        "8.Write a program to demonstrate the use of logical operators."
      ],
      "metadata": {
        "id": "d9SJ9LsbqHfn"
      }
    },
    {
      "cell_type": "code",
      "source": [
        "\n",
        "age = 25\n",
        "is_employee = True\n",
        "has_id = False\n",
        "\n",
        "\n",
        "if age >= 18 and is_employee:\n",
        "    print(\"Eligible for employee discount.\")\n",
        "\n",
        "\n",
        "if age < 18 or not has_id:\n",
        "    print(\"Cannot access the event.\")\n",
        "\n",
        "\n",
        "if not is_employee:\n",
        "    print(\"Not a employee.\")\n"
      ],
      "metadata": {
        "colab": {
          "base_uri": "https://localhost:8080/"
        },
        "id": "D7hdVdx4qK5m",
        "outputId": "02628428-47b1-497b-fd53-12d9ac8f1c7a"
      },
      "execution_count": 26,
      "outputs": [
        {
          "output_type": "stream",
          "name": "stdout",
          "text": [
            "Eligible for employee discount.\n",
            "Cannot access the event.\n"
          ]
        }
      ]
    },
    {
      "cell_type": "code",
      "source": [],
      "metadata": {
        "id": "blrWCdPQ06yH"
      },
      "execution_count": null,
      "outputs": []
    },
    {
      "cell_type": "markdown",
      "source": [
        " 9Write a Python program to convert user input from string to integer, float, and boolean types."
      ],
      "metadata": {
        "id": "YOdPugsy09bY"
      }
    },
    {
      "cell_type": "code",
      "source": [
        "\n",
        "user_input = input(\"Enter a value: \")\n",
        "\n",
        "try:\n",
        "    int_value = int(user_input)\n",
        "    print(f\"Integer: {int_value}\")\n",
        "except ValueError:\n",
        "    print(\"Cannot convert to integer.\")\n",
        "\n",
        "\n",
        "try:\n",
        "    float_value = float(user_input)\n",
        "    print(f\"Float: {float_value}\")\n",
        "except ValueError:\n",
        "    print(\"Cannot convert to float.\")\n",
        "\n",
        "\n",
        "bool_value = bool(user_input)\n",
        "print(f\"Boolean: {bool_value}\")\n"
      ],
      "metadata": {
        "colab": {
          "base_uri": "https://localhost:8080/"
        },
        "id": "QNoKntqj1As2",
        "outputId": "ff9498e4-9958-4429-c3fd-60fbf992a15e"
      },
      "execution_count": 27,
      "outputs": [
        {
          "output_type": "stream",
          "name": "stdout",
          "text": [
            "Enter a value: 42\n",
            "Integer: 42\n",
            "Float: 42.0\n",
            "Boolean: True\n"
          ]
        }
      ]
    },
    {
      "cell_type": "code",
      "source": [],
      "metadata": {
        "id": "gLmXfB4T2dHD"
      },
      "execution_count": null,
      "outputs": []
    },
    {
      "cell_type": "markdown",
      "source": [
        "10.Write code to demonstrate type casting with list elements."
      ],
      "metadata": {
        "id": "Q_kPpsVg2h5k"
      }
    },
    {
      "cell_type": "code",
      "source": [
        "\n",
        "def type_cast_list_elements():\n",
        "    # Initialize a list of strings representing numbers\n",
        "    str_list = [\"10\", \"20\", \"30\", \"40\", \"50\"]\n",
        "\n",
        "    # Initialize an empty list to store the converted integers\n",
        "    int_list = []\n",
        "\n",
        "    # Initialize an index variable for the while loop\n",
        "    index = 0\n",
        "\n",
        "    # Loop through the list using a while loop\n",
        "    while index < len(str_list):\n",
        "        # Convert each string element to an integer and append to the new list\n",
        "        int_list.append(int(str_list[index]))\n",
        "        index += 1\n",
        "\n",
        "    # Print the original and converted lists\n",
        "    print(\"Original List:\", str_list)\n",
        "    print(\"Converted List:\", int_list)\n",
        "\n",
        "# Call the function to execute\n",
        "type_cast_list_elements()\n"
      ],
      "metadata": {
        "colab": {
          "base_uri": "https://localhost:8080/"
        },
        "id": "Re9T6yR72lsa",
        "outputId": "25963935-5068-41e3-f5e6-d808ffe74447"
      },
      "execution_count": 38,
      "outputs": [
        {
          "output_type": "stream",
          "name": "stdout",
          "text": [
            "Original List: ['10', '20', '30', '40', '50']\n",
            "Converted List: [10, 20, 30, 40, 50]\n"
          ]
        }
      ]
    },
    {
      "cell_type": "code",
      "source": [],
      "metadata": {
        "id": "zGKXgFyZ31eb"
      },
      "execution_count": null,
      "outputs": []
    },
    {
      "cell_type": "markdown",
      "source": [
        "11.Write a program that checks if a number is positive, negative, or zero."
      ],
      "metadata": {
        "id": "D6iHLq6r33oU"
      }
    },
    {
      "cell_type": "code",
      "source": [
        "\n",
        "num = float(input(\"Enter a number: \"))\n",
        "\n",
        "\n",
        "if num > 0:\n",
        "    print(\"Positive number\")\n",
        "elif num < 0:\n",
        "    print(\"Negative number\")\n",
        "else:\n",
        "    print(\"Zero\")\n"
      ],
      "metadata": {
        "colab": {
          "base_uri": "https://localhost:8080/"
        },
        "id": "1EZ_D4lU4ACY",
        "outputId": "a60a811e-bbd7-4848-d2aa-e5bd8b406c8b"
      },
      "execution_count": 29,
      "outputs": [
        {
          "output_type": "stream",
          "name": "stdout",
          "text": [
            "Enter a number: -5\n",
            "Negative number\n"
          ]
        }
      ]
    },
    {
      "cell_type": "markdown",
      "source": [
        "12.Write a for loop to print numbers from 1 to 10."
      ],
      "metadata": {
        "id": "D2R3462X4b1j"
      }
    },
    {
      "cell_type": "code",
      "source": [
        "for i in range(1, 11):\n",
        "    print(i)\n"
      ],
      "metadata": {
        "colab": {
          "base_uri": "https://localhost:8080/"
        },
        "id": "Bw9rrnS34dpT",
        "outputId": "815a757c-b602-4051-ba03-6bf28c28adf9"
      },
      "execution_count": 30,
      "outputs": [
        {
          "output_type": "stream",
          "name": "stdout",
          "text": [
            "1\n",
            "2\n",
            "3\n",
            "4\n",
            "5\n",
            "6\n",
            "7\n",
            "8\n",
            "9\n",
            "10\n"
          ]
        }
      ]
    },
    {
      "cell_type": "code",
      "source": [],
      "metadata": {
        "id": "uGPdtLnd4lZo"
      },
      "execution_count": null,
      "outputs": []
    },
    {
      "cell_type": "markdown",
      "source": [
        "13. Write a Python program to find the sum of all even numbers between 1 and 50."
      ],
      "metadata": {
        "id": "OqxCwRWi4mv4"
      }
    },
    {
      "cell_type": "code",
      "source": [
        "\n",
        "total_sum = 0\n",
        "\n",
        "\n",
        "for num in range(1, 51):\n",
        "    if num % 2 == 0:\n",
        "        total_sum += num\n",
        "\n",
        "print(\"The sum of all even numbers between 1 and 50 is:\", total_sum)\n"
      ],
      "metadata": {
        "colab": {
          "base_uri": "https://localhost:8080/"
        },
        "id": "fFsBPl2z4qSH",
        "outputId": "82afc144-fd58-4256-95e1-1bf0e67ffb5b"
      },
      "execution_count": 31,
      "outputs": [
        {
          "output_type": "stream",
          "name": "stdout",
          "text": [
            "The sum of all even numbers between 1 and 50 is: 650\n"
          ]
        }
      ]
    },
    {
      "cell_type": "code",
      "source": [],
      "metadata": {
        "id": "I5ox8uTX4zkq"
      },
      "execution_count": null,
      "outputs": []
    },
    {
      "cell_type": "markdown",
      "source": [
        "14. Write a program to reverse a string using a while loop."
      ],
      "metadata": {
        "id": "fb6ypVAY41Hn"
      }
    },
    {
      "cell_type": "code",
      "source": [
        "def reverse_string(input_string):\n",
        "    reversed_string = \"\"\n",
        "    index = len(input_string) - 1\n",
        "    # Start from the last character\n",
        "\n",
        "    while index >= 0:\n",
        "        reversed_string += input_string[index]\n",
        "        index -= 1\n",
        "\n",
        "    return reversed_string\n",
        "\n",
        "# Example is for refrence\n",
        "original_string = \"Hello, World!\"\n",
        "reversed_str = reverse_string(original_string)\n",
        "print(\"Original String:\", original_string)\n",
        "print(\"Reversed String:\", reversed_str)\n"
      ],
      "metadata": {
        "colab": {
          "base_uri": "https://localhost:8080/"
        },
        "id": "HjlUF5QH47Uv",
        "outputId": "7aa25038-56d7-4f56-a982-e6c6cb4539b6"
      },
      "execution_count": 33,
      "outputs": [
        {
          "output_type": "stream",
          "name": "stdout",
          "text": [
            "Original String: Hello, World!\n",
            "Reversed String: !dlroW ,olleH\n"
          ]
        }
      ]
    },
    {
      "cell_type": "markdown",
      "source": [
        " 15.Write a Python program to calculate the factorial of a number provided by the user using a while loop."
      ],
      "metadata": {
        "id": "3-QG15Ql5Uk-"
      }
    },
    {
      "cell_type": "code",
      "source": [
        "def calculate_factorial():\n",
        "    try:\n",
        "        # Prompt the user for input\n",
        "        num = int(input(\"Enter a number to find its factorial: \"))\n",
        "\n",
        "        # Initialize variables\n",
        "        factorial = 1\n",
        "        i = 1\n",
        "\n",
        "        # Check if the number is negative\n",
        "        if num < 0:\n",
        "            print(\"Factorial does not exist for negative numbers.\")\n",
        "        elif num == 0:\n",
        "            print(\"The factorial of 0 is 1.\")\n",
        "        else:\n",
        "            # Calculate factorial using a while loop\n",
        "            while i <= num:\n",
        "                factorial *= i\n",
        "                i += 1\n",
        "            print(f\"The factorial of {num} is {factorial}.\")\n",
        "    except ValueError:\n",
        "        print(\"Please enter a valid integer.\")\n",
        "\n",
        "# Call the function to execute\n",
        "calculate_factorial()\n"
      ],
      "metadata": {
        "colab": {
          "base_uri": "https://localhost:8080/"
        },
        "id": "C_DEKue45cJY",
        "outputId": "551c1b17-ad61-44d4-a10f-0cb791f4869b"
      },
      "execution_count": 37,
      "outputs": [
        {
          "output_type": "stream",
          "name": "stdout",
          "text": [
            "Enter a number to find its factorial: 5\n",
            "The factorial of 5 is 120.\n"
          ]
        }
      ]
    }
  ]
}